{
 "cells": [
  {
   "cell_type": "code",
   "execution_count": 1,
   "id": "1d5a57cf",
   "metadata": {},
   "outputs": [],
   "source": [
    "import numpy as np\n",
    "import matplotlib.pyplot as plt\n",
    "import pandas as pd\n",
    "import math\n",
    "import pandas_datareader as web\n",
    "from sklearn.preprocessing import MinMaxScaler\n",
    "from keras.models import Sequential\n",
    "from keras.layers import Dense,LSTM \n",
    "plt.style.use('fivethirtyeight')"
   ]
  },
  {
   "cell_type": "code",
   "execution_count": 4,
   "id": "48bfac43",
   "metadata": {},
   "outputs": [],
   "source": [
    "df = pd.read_csv(r'C:\\Users\\HP\\Documents\\TVSMOTOR.csv')"
   ]
  },
  {
   "cell_type": "code",
   "execution_count": 5,
   "id": "98de7df0",
   "metadata": {},
   "outputs": [
    {
     "data": {
      "text/html": [
       "<div>\n",
       "<style scoped>\n",
       "    .dataframe tbody tr th:only-of-type {\n",
       "        vertical-align: middle;\n",
       "    }\n",
       "\n",
       "    .dataframe tbody tr th {\n",
       "        vertical-align: top;\n",
       "    }\n",
       "\n",
       "    .dataframe thead th {\n",
       "        text-align: right;\n",
       "    }\n",
       "</style>\n",
       "<table border=\"1\" class=\"dataframe\">\n",
       "  <thead>\n",
       "    <tr style=\"text-align: right;\">\n",
       "      <th></th>\n",
       "      <th>Date</th>\n",
       "      <th>Open</th>\n",
       "      <th>High</th>\n",
       "      <th>Low</th>\n",
       "      <th>Close</th>\n",
       "      <th>Adj Close</th>\n",
       "      <th>Volume</th>\n",
       "    </tr>\n",
       "  </thead>\n",
       "  <tbody>\n",
       "    <tr>\n",
       "      <th>0</th>\n",
       "      <td>2000-08-02</td>\n",
       "      <td>12.497500</td>\n",
       "      <td>12.497500</td>\n",
       "      <td>12.497500</td>\n",
       "      <td>12.497500</td>\n",
       "      <td>9.401971</td>\n",
       "      <td>100.0</td>\n",
       "    </tr>\n",
       "    <tr>\n",
       "      <th>1</th>\n",
       "      <td>2000-08-03</td>\n",
       "      <td>11.850000</td>\n",
       "      <td>12.000000</td>\n",
       "      <td>10.800000</td>\n",
       "      <td>11.547500</td>\n",
       "      <td>8.687276</td>\n",
       "      <td>33020.0</td>\n",
       "    </tr>\n",
       "    <tr>\n",
       "      <th>2</th>\n",
       "      <td>2000-08-04</td>\n",
       "      <td>11.650000</td>\n",
       "      <td>11.650000</td>\n",
       "      <td>10.900000</td>\n",
       "      <td>11.200000</td>\n",
       "      <td>8.425850</td>\n",
       "      <td>25500.0</td>\n",
       "    </tr>\n",
       "    <tr>\n",
       "      <th>3</th>\n",
       "      <td>2000-08-07</td>\n",
       "      <td>11.050000</td>\n",
       "      <td>11.050000</td>\n",
       "      <td>10.800000</td>\n",
       "      <td>10.807500</td>\n",
       "      <td>8.130568</td>\n",
       "      <td>13320.0</td>\n",
       "    </tr>\n",
       "    <tr>\n",
       "      <th>4</th>\n",
       "      <td>2000-08-08</td>\n",
       "      <td>10.350000</td>\n",
       "      <td>11.000000</td>\n",
       "      <td>10.350000</td>\n",
       "      <td>10.742500</td>\n",
       "      <td>8.081672</td>\n",
       "      <td>47520.0</td>\n",
       "    </tr>\n",
       "    <tr>\n",
       "      <th>...</th>\n",
       "      <td>...</td>\n",
       "      <td>...</td>\n",
       "      <td>...</td>\n",
       "      <td>...</td>\n",
       "      <td>...</td>\n",
       "      <td>...</td>\n",
       "      <td>...</td>\n",
       "    </tr>\n",
       "    <tr>\n",
       "      <th>5177</th>\n",
       "      <td>2021-04-16</td>\n",
       "      <td>540.000000</td>\n",
       "      <td>559.400024</td>\n",
       "      <td>537.000000</td>\n",
       "      <td>551.049988</td>\n",
       "      <td>551.049988</td>\n",
       "      <td>1867109.0</td>\n",
       "    </tr>\n",
       "    <tr>\n",
       "      <th>5178</th>\n",
       "      <td>2021-04-19</td>\n",
       "      <td>542.200012</td>\n",
       "      <td>542.200012</td>\n",
       "      <td>527.799988</td>\n",
       "      <td>539.200012</td>\n",
       "      <td>539.200012</td>\n",
       "      <td>1029456.0</td>\n",
       "    </tr>\n",
       "    <tr>\n",
       "      <th>5179</th>\n",
       "      <td>2021-04-20</td>\n",
       "      <td>544.000000</td>\n",
       "      <td>547.549988</td>\n",
       "      <td>532.799988</td>\n",
       "      <td>536.950012</td>\n",
       "      <td>536.950012</td>\n",
       "      <td>1292480.0</td>\n",
       "    </tr>\n",
       "    <tr>\n",
       "      <th>5180</th>\n",
       "      <td>2021-04-22</td>\n",
       "      <td>528.150024</td>\n",
       "      <td>536.349976</td>\n",
       "      <td>523.650024</td>\n",
       "      <td>533.849976</td>\n",
       "      <td>533.849976</td>\n",
       "      <td>1465204.0</td>\n",
       "    </tr>\n",
       "    <tr>\n",
       "      <th>5181</th>\n",
       "      <td>2021-04-23</td>\n",
       "      <td>533.000000</td>\n",
       "      <td>538.000000</td>\n",
       "      <td>528.000000</td>\n",
       "      <td>532.799988</td>\n",
       "      <td>532.799988</td>\n",
       "      <td>1411440.0</td>\n",
       "    </tr>\n",
       "  </tbody>\n",
       "</table>\n",
       "<p>5182 rows × 7 columns</p>\n",
       "</div>"
      ],
      "text/plain": [
       "            Date        Open        High         Low       Close   Adj Close  \\\n",
       "0     2000-08-02   12.497500   12.497500   12.497500   12.497500    9.401971   \n",
       "1     2000-08-03   11.850000   12.000000   10.800000   11.547500    8.687276   \n",
       "2     2000-08-04   11.650000   11.650000   10.900000   11.200000    8.425850   \n",
       "3     2000-08-07   11.050000   11.050000   10.800000   10.807500    8.130568   \n",
       "4     2000-08-08   10.350000   11.000000   10.350000   10.742500    8.081672   \n",
       "...          ...         ...         ...         ...         ...         ...   \n",
       "5177  2021-04-16  540.000000  559.400024  537.000000  551.049988  551.049988   \n",
       "5178  2021-04-19  542.200012  542.200012  527.799988  539.200012  539.200012   \n",
       "5179  2021-04-20  544.000000  547.549988  532.799988  536.950012  536.950012   \n",
       "5180  2021-04-22  528.150024  536.349976  523.650024  533.849976  533.849976   \n",
       "5181  2021-04-23  533.000000  538.000000  528.000000  532.799988  532.799988   \n",
       "\n",
       "         Volume  \n",
       "0         100.0  \n",
       "1       33020.0  \n",
       "2       25500.0  \n",
       "3       13320.0  \n",
       "4       47520.0  \n",
       "...         ...  \n",
       "5177  1867109.0  \n",
       "5178  1029456.0  \n",
       "5179  1292480.0  \n",
       "5180  1465204.0  \n",
       "5181  1411440.0  \n",
       "\n",
       "[5182 rows x 7 columns]"
      ]
     },
     "execution_count": 5,
     "metadata": {},
     "output_type": "execute_result"
    }
   ],
   "source": [
    "df"
   ]
  },
  {
   "cell_type": "code",
   "execution_count": 6,
   "id": "72d1eae8",
   "metadata": {},
   "outputs": [
    {
     "data": {
      "text/html": [
       "<div>\n",
       "<style scoped>\n",
       "    .dataframe tbody tr th:only-of-type {\n",
       "        vertical-align: middle;\n",
       "    }\n",
       "\n",
       "    .dataframe tbody tr th {\n",
       "        vertical-align: top;\n",
       "    }\n",
       "\n",
       "    .dataframe thead th {\n",
       "        text-align: right;\n",
       "    }\n",
       "</style>\n",
       "<table border=\"1\" class=\"dataframe\">\n",
       "  <thead>\n",
       "    <tr style=\"text-align: right;\">\n",
       "      <th></th>\n",
       "      <th>Date</th>\n",
       "      <th>Open</th>\n",
       "      <th>High</th>\n",
       "      <th>Low</th>\n",
       "      <th>Close</th>\n",
       "      <th>Adj Close</th>\n",
       "      <th>Volume</th>\n",
       "    </tr>\n",
       "  </thead>\n",
       "  <tbody>\n",
       "    <tr>\n",
       "      <th>0</th>\n",
       "      <td>2000-08-02</td>\n",
       "      <td>12.497500</td>\n",
       "      <td>12.497500</td>\n",
       "      <td>12.497500</td>\n",
       "      <td>12.497500</td>\n",
       "      <td>9.401971</td>\n",
       "      <td>100.0</td>\n",
       "    </tr>\n",
       "    <tr>\n",
       "      <th>1</th>\n",
       "      <td>2000-08-03</td>\n",
       "      <td>11.850000</td>\n",
       "      <td>12.000000</td>\n",
       "      <td>10.800000</td>\n",
       "      <td>11.547500</td>\n",
       "      <td>8.687276</td>\n",
       "      <td>33020.0</td>\n",
       "    </tr>\n",
       "    <tr>\n",
       "      <th>2</th>\n",
       "      <td>2000-08-04</td>\n",
       "      <td>11.650000</td>\n",
       "      <td>11.650000</td>\n",
       "      <td>10.900000</td>\n",
       "      <td>11.200000</td>\n",
       "      <td>8.425850</td>\n",
       "      <td>25500.0</td>\n",
       "    </tr>\n",
       "    <tr>\n",
       "      <th>3</th>\n",
       "      <td>2000-08-07</td>\n",
       "      <td>11.050000</td>\n",
       "      <td>11.050000</td>\n",
       "      <td>10.800000</td>\n",
       "      <td>10.807500</td>\n",
       "      <td>8.130568</td>\n",
       "      <td>13320.0</td>\n",
       "    </tr>\n",
       "    <tr>\n",
       "      <th>4</th>\n",
       "      <td>2000-08-08</td>\n",
       "      <td>10.350000</td>\n",
       "      <td>11.000000</td>\n",
       "      <td>10.350000</td>\n",
       "      <td>10.742500</td>\n",
       "      <td>8.081672</td>\n",
       "      <td>47520.0</td>\n",
       "    </tr>\n",
       "    <tr>\n",
       "      <th>...</th>\n",
       "      <td>...</td>\n",
       "      <td>...</td>\n",
       "      <td>...</td>\n",
       "      <td>...</td>\n",
       "      <td>...</td>\n",
       "      <td>...</td>\n",
       "      <td>...</td>\n",
       "    </tr>\n",
       "    <tr>\n",
       "      <th>5177</th>\n",
       "      <td>2021-04-16</td>\n",
       "      <td>540.000000</td>\n",
       "      <td>559.400024</td>\n",
       "      <td>537.000000</td>\n",
       "      <td>551.049988</td>\n",
       "      <td>551.049988</td>\n",
       "      <td>1867109.0</td>\n",
       "    </tr>\n",
       "    <tr>\n",
       "      <th>5178</th>\n",
       "      <td>2021-04-19</td>\n",
       "      <td>542.200012</td>\n",
       "      <td>542.200012</td>\n",
       "      <td>527.799988</td>\n",
       "      <td>539.200012</td>\n",
       "      <td>539.200012</td>\n",
       "      <td>1029456.0</td>\n",
       "    </tr>\n",
       "    <tr>\n",
       "      <th>5179</th>\n",
       "      <td>2021-04-20</td>\n",
       "      <td>544.000000</td>\n",
       "      <td>547.549988</td>\n",
       "      <td>532.799988</td>\n",
       "      <td>536.950012</td>\n",
       "      <td>536.950012</td>\n",
       "      <td>1292480.0</td>\n",
       "    </tr>\n",
       "    <tr>\n",
       "      <th>5180</th>\n",
       "      <td>2021-04-22</td>\n",
       "      <td>528.150024</td>\n",
       "      <td>536.349976</td>\n",
       "      <td>523.650024</td>\n",
       "      <td>533.849976</td>\n",
       "      <td>533.849976</td>\n",
       "      <td>1465204.0</td>\n",
       "    </tr>\n",
       "    <tr>\n",
       "      <th>5181</th>\n",
       "      <td>2021-04-23</td>\n",
       "      <td>533.000000</td>\n",
       "      <td>538.000000</td>\n",
       "      <td>528.000000</td>\n",
       "      <td>532.799988</td>\n",
       "      <td>532.799988</td>\n",
       "      <td>1411440.0</td>\n",
       "    </tr>\n",
       "  </tbody>\n",
       "</table>\n",
       "<p>5168 rows × 7 columns</p>\n",
       "</div>"
      ],
      "text/plain": [
       "            Date        Open        High         Low       Close   Adj Close  \\\n",
       "0     2000-08-02   12.497500   12.497500   12.497500   12.497500    9.401971   \n",
       "1     2000-08-03   11.850000   12.000000   10.800000   11.547500    8.687276   \n",
       "2     2000-08-04   11.650000   11.650000   10.900000   11.200000    8.425850   \n",
       "3     2000-08-07   11.050000   11.050000   10.800000   10.807500    8.130568   \n",
       "4     2000-08-08   10.350000   11.000000   10.350000   10.742500    8.081672   \n",
       "...          ...         ...         ...         ...         ...         ...   \n",
       "5177  2021-04-16  540.000000  559.400024  537.000000  551.049988  551.049988   \n",
       "5178  2021-04-19  542.200012  542.200012  527.799988  539.200012  539.200012   \n",
       "5179  2021-04-20  544.000000  547.549988  532.799988  536.950012  536.950012   \n",
       "5180  2021-04-22  528.150024  536.349976  523.650024  533.849976  533.849976   \n",
       "5181  2021-04-23  533.000000  538.000000  528.000000  532.799988  532.799988   \n",
       "\n",
       "         Volume  \n",
       "0         100.0  \n",
       "1       33020.0  \n",
       "2       25500.0  \n",
       "3       13320.0  \n",
       "4       47520.0  \n",
       "...         ...  \n",
       "5177  1867109.0  \n",
       "5178  1029456.0  \n",
       "5179  1292480.0  \n",
       "5180  1465204.0  \n",
       "5181  1411440.0  \n",
       "\n",
       "[5168 rows x 7 columns]"
      ]
     },
     "execution_count": 6,
     "metadata": {},
     "output_type": "execute_result"
    }
   ],
   "source": [
    "df1=df.dropna()\n",
    "df1"
   ]
  },
  {
   "cell_type": "code",
   "execution_count": 7,
   "id": "ff953dd1",
   "metadata": {},
   "outputs": [
    {
     "data": {
      "text/html": [
       "<div>\n",
       "<style scoped>\n",
       "    .dataframe tbody tr th:only-of-type {\n",
       "        vertical-align: middle;\n",
       "    }\n",
       "\n",
       "    .dataframe tbody tr th {\n",
       "        vertical-align: top;\n",
       "    }\n",
       "\n",
       "    .dataframe thead th {\n",
       "        text-align: right;\n",
       "    }\n",
       "</style>\n",
       "<table border=\"1\" class=\"dataframe\">\n",
       "  <thead>\n",
       "    <tr style=\"text-align: right;\">\n",
       "      <th></th>\n",
       "      <th>Date</th>\n",
       "      <th>Open</th>\n",
       "      <th>High</th>\n",
       "      <th>Low</th>\n",
       "      <th>Close</th>\n",
       "      <th>Adj Close</th>\n",
       "      <th>Volume</th>\n",
       "    </tr>\n",
       "  </thead>\n",
       "  <tbody>\n",
       "    <tr>\n",
       "      <th>0</th>\n",
       "      <td>2000-08-02</td>\n",
       "      <td>12.4975</td>\n",
       "      <td>12.4975</td>\n",
       "      <td>12.4975</td>\n",
       "      <td>12.4975</td>\n",
       "      <td>9.401971</td>\n",
       "      <td>100.0</td>\n",
       "    </tr>\n",
       "    <tr>\n",
       "      <th>1</th>\n",
       "      <td>2000-08-03</td>\n",
       "      <td>11.8500</td>\n",
       "      <td>12.0000</td>\n",
       "      <td>10.8000</td>\n",
       "      <td>11.5475</td>\n",
       "      <td>8.687276</td>\n",
       "      <td>33020.0</td>\n",
       "    </tr>\n",
       "    <tr>\n",
       "      <th>2</th>\n",
       "      <td>2000-08-04</td>\n",
       "      <td>11.6500</td>\n",
       "      <td>11.6500</td>\n",
       "      <td>10.9000</td>\n",
       "      <td>11.2000</td>\n",
       "      <td>8.425850</td>\n",
       "      <td>25500.0</td>\n",
       "    </tr>\n",
       "    <tr>\n",
       "      <th>3</th>\n",
       "      <td>2000-08-07</td>\n",
       "      <td>11.0500</td>\n",
       "      <td>11.0500</td>\n",
       "      <td>10.8000</td>\n",
       "      <td>10.8075</td>\n",
       "      <td>8.130568</td>\n",
       "      <td>13320.0</td>\n",
       "    </tr>\n",
       "    <tr>\n",
       "      <th>4</th>\n",
       "      <td>2000-08-08</td>\n",
       "      <td>10.3500</td>\n",
       "      <td>11.0000</td>\n",
       "      <td>10.3500</td>\n",
       "      <td>10.7425</td>\n",
       "      <td>8.081672</td>\n",
       "      <td>47520.0</td>\n",
       "    </tr>\n",
       "  </tbody>\n",
       "</table>\n",
       "</div>"
      ],
      "text/plain": [
       "         Date     Open     High      Low    Close  Adj Close   Volume\n",
       "0  2000-08-02  12.4975  12.4975  12.4975  12.4975   9.401971    100.0\n",
       "1  2000-08-03  11.8500  12.0000  10.8000  11.5475   8.687276  33020.0\n",
       "2  2000-08-04  11.6500  11.6500  10.9000  11.2000   8.425850  25500.0\n",
       "3  2000-08-07  11.0500  11.0500  10.8000  10.8075   8.130568  13320.0\n",
       "4  2000-08-08  10.3500  11.0000  10.3500  10.7425   8.081672  47520.0"
      ]
     },
     "execution_count": 7,
     "metadata": {},
     "output_type": "execute_result"
    }
   ],
   "source": [
    "df1.head()"
   ]
  },
  {
   "cell_type": "code",
   "execution_count": 8,
   "id": "cddaedd4",
   "metadata": {},
   "outputs": [
    {
     "data": {
      "text/html": [
       "<div>\n",
       "<style scoped>\n",
       "    .dataframe tbody tr th:only-of-type {\n",
       "        vertical-align: middle;\n",
       "    }\n",
       "\n",
       "    .dataframe tbody tr th {\n",
       "        vertical-align: top;\n",
       "    }\n",
       "\n",
       "    .dataframe thead th {\n",
       "        text-align: right;\n",
       "    }\n",
       "</style>\n",
       "<table border=\"1\" class=\"dataframe\">\n",
       "  <thead>\n",
       "    <tr style=\"text-align: right;\">\n",
       "      <th></th>\n",
       "      <th>Open</th>\n",
       "      <th>High</th>\n",
       "      <th>Low</th>\n",
       "      <th>Close</th>\n",
       "      <th>Adj Close</th>\n",
       "      <th>Volume</th>\n",
       "    </tr>\n",
       "  </thead>\n",
       "  <tbody>\n",
       "    <tr>\n",
       "      <th>count</th>\n",
       "      <td>5168.000000</td>\n",
       "      <td>5168.000000</td>\n",
       "      <td>5168.000000</td>\n",
       "      <td>5168.000000</td>\n",
       "      <td>5168.000000</td>\n",
       "      <td>5.168000e+03</td>\n",
       "    </tr>\n",
       "    <tr>\n",
       "      <th>mean</th>\n",
       "      <td>162.818279</td>\n",
       "      <td>165.537619</td>\n",
       "      <td>159.829969</td>\n",
       "      <td>162.638104</td>\n",
       "      <td>155.747337</td>\n",
       "      <td>1.613798e+06</td>\n",
       "    </tr>\n",
       "    <tr>\n",
       "      <th>std</th>\n",
       "      <td>200.455312</td>\n",
       "      <td>203.212998</td>\n",
       "      <td>197.374725</td>\n",
       "      <td>200.323438</td>\n",
       "      <td>198.591522</td>\n",
       "      <td>2.112182e+06</td>\n",
       "    </tr>\n",
       "    <tr>\n",
       "      <th>min</th>\n",
       "      <td>3.260000</td>\n",
       "      <td>4.000000</td>\n",
       "      <td>3.055000</td>\n",
       "      <td>3.762500</td>\n",
       "      <td>2.830559</td>\n",
       "      <td>0.000000e+00</td>\n",
       "    </tr>\n",
       "    <tr>\n",
       "      <th>25%</th>\n",
       "      <td>29.639375</td>\n",
       "      <td>30.437501</td>\n",
       "      <td>29.000000</td>\n",
       "      <td>29.600000</td>\n",
       "      <td>24.588076</td>\n",
       "      <td>5.043112e+05</td>\n",
       "    </tr>\n",
       "    <tr>\n",
       "      <th>50%</th>\n",
       "      <td>48.274999</td>\n",
       "      <td>49.362499</td>\n",
       "      <td>47.150002</td>\n",
       "      <td>48.163750</td>\n",
       "      <td>39.799932</td>\n",
       "      <td>1.078958e+06</td>\n",
       "    </tr>\n",
       "    <tr>\n",
       "      <th>75%</th>\n",
       "      <td>290.000000</td>\n",
       "      <td>295.112503</td>\n",
       "      <td>285.662498</td>\n",
       "      <td>289.762497</td>\n",
       "      <td>278.901223</td>\n",
       "      <td>2.014426e+06</td>\n",
       "    </tr>\n",
       "    <tr>\n",
       "      <th>max</th>\n",
       "      <td>786.000000</td>\n",
       "      <td>794.450012</td>\n",
       "      <td>777.000000</td>\n",
       "      <td>785.049988</td>\n",
       "      <td>767.498230</td>\n",
       "      <td>5.041145e+07</td>\n",
       "    </tr>\n",
       "  </tbody>\n",
       "</table>\n",
       "</div>"
      ],
      "text/plain": [
       "              Open         High          Low        Close    Adj Close  \\\n",
       "count  5168.000000  5168.000000  5168.000000  5168.000000  5168.000000   \n",
       "mean    162.818279   165.537619   159.829969   162.638104   155.747337   \n",
       "std     200.455312   203.212998   197.374725   200.323438   198.591522   \n",
       "min       3.260000     4.000000     3.055000     3.762500     2.830559   \n",
       "25%      29.639375    30.437501    29.000000    29.600000    24.588076   \n",
       "50%      48.274999    49.362499    47.150002    48.163750    39.799932   \n",
       "75%     290.000000   295.112503   285.662498   289.762497   278.901223   \n",
       "max     786.000000   794.450012   777.000000   785.049988   767.498230   \n",
       "\n",
       "             Volume  \n",
       "count  5.168000e+03  \n",
       "mean   1.613798e+06  \n",
       "std    2.112182e+06  \n",
       "min    0.000000e+00  \n",
       "25%    5.043112e+05  \n",
       "50%    1.078958e+06  \n",
       "75%    2.014426e+06  \n",
       "max    5.041145e+07  "
      ]
     },
     "execution_count": 8,
     "metadata": {},
     "output_type": "execute_result"
    }
   ],
   "source": [
    "df1.describe()"
   ]
  },
  {
   "cell_type": "code",
   "execution_count": 9,
   "id": "b187b15b",
   "metadata": {},
   "outputs": [],
   "source": [
    "df[\"Date\"]=pd.to_datetime(df.Date,format=\"%Y-%m-%d\")\n",
    "df.index=df['Date']"
   ]
  },
  {
   "cell_type": "code",
   "execution_count": 10,
   "id": "c671c988",
   "metadata": {},
   "outputs": [
    {
     "data": {
      "text/plain": [
       "[<matplotlib.lines.Line2D at 0x2532579f550>]"
      ]
     },
     "execution_count": 10,
     "metadata": {},
     "output_type": "execute_result"
    },
    {
     "data": {
      "image/png": "[encoded data removed]",
      "text/plain": [
       "<Figure size 1152x576 with 1 Axes>"
      ]
     },
     "metadata": {},
     "output_type": "display_data"
    }
   ],
   "source": [
    "plt.figure(figsize=(16,8))\n",
    "plt.plot(df[\"Close\"],label='Close Price history')"
   ]
  },
  {
   "cell_type": "code",
   "execution_count": 11,
   "id": "fd53e58a",
   "metadata": {},
   "outputs": [
    {
     "data": {
      "text/plain": [
       "(5168, 7)"
      ]
     },
     "execution_count": 11,
     "metadata": {},
     "output_type": "execute_result"
    }
   ],
   "source": [
    "df1.shape"
   ]
  },
  {
   "cell_type": "code",
   "execution_count": 12,
   "id": "568c940e",
   "metadata": {},
   "outputs": [],
   "source": [
    "import datetime as dt"
   ]
  },
  {
   "cell_type": "code",
   "execution_count": 13,
   "id": "6eceb956",
   "metadata": {},
   "outputs": [
    {
     "data": {
      "image/png": "[encoded data removed]",
      "text/plain": [
       "<Figure size 1296x576 with 1 Axes>"
      ]
     },
     "metadata": {},
     "output_type": "display_data"
    }
   ],
   "source": [
    "#visualize te closing price\n",
    "plt.figure(figsize=(18,8))\n",
    "plt.title('closing price history')\n",
    "plt.plot(df['Close'])\n",
    "plt.xlabel('Date')\n",
    "plt.ylabel('closing price')\n",
    "plt.show()"
   ]
  },
  {
   "cell_type": "code",
   "execution_count": null,
   "id": "dd9476a4",
   "metadata": {},
   "outputs": [],
   "source": []
  },
  {
   "cell_type": "code",
   "execution_count": 16,
   "id": "cf315f6b",
   "metadata": {},
   "outputs": [
    {
     "data": {
      "text/html": [
       "<div>\n",
       "<style scoped>\n",
       "    .dataframe tbody tr th:only-of-type {\n",
       "        vertical-align: middle;\n",
       "    }\n",
       "\n",
       "    .dataframe tbody tr th {\n",
       "        vertical-align: top;\n",
       "    }\n",
       "\n",
       "    .dataframe thead th {\n",
       "        text-align: right;\n",
       "    }\n",
       "</style>\n",
       "<table border=\"1\" class=\"dataframe\">\n",
       "  <thead>\n",
       "    <tr style=\"text-align: right;\">\n",
       "      <th></th>\n",
       "      <th>Close</th>\n",
       "    </tr>\n",
       "  </thead>\n",
       "  <tbody>\n",
       "    <tr>\n",
       "      <th>0</th>\n",
       "      <td>12.497500</td>\n",
       "    </tr>\n",
       "    <tr>\n",
       "      <th>1</th>\n",
       "      <td>11.547500</td>\n",
       "    </tr>\n",
       "    <tr>\n",
       "      <th>2</th>\n",
       "      <td>11.200000</td>\n",
       "    </tr>\n",
       "    <tr>\n",
       "      <th>3</th>\n",
       "      <td>10.807500</td>\n",
       "    </tr>\n",
       "    <tr>\n",
       "      <th>4</th>\n",
       "      <td>10.742500</td>\n",
       "    </tr>\n",
       "    <tr>\n",
       "      <th>...</th>\n",
       "      <td>...</td>\n",
       "    </tr>\n",
       "    <tr>\n",
       "      <th>5177</th>\n",
       "      <td>551.049988</td>\n",
       "    </tr>\n",
       "    <tr>\n",
       "      <th>5178</th>\n",
       "      <td>539.200012</td>\n",
       "    </tr>\n",
       "    <tr>\n",
       "      <th>5179</th>\n",
       "      <td>536.950012</td>\n",
       "    </tr>\n",
       "    <tr>\n",
       "      <th>5180</th>\n",
       "      <td>533.849976</td>\n",
       "    </tr>\n",
       "    <tr>\n",
       "      <th>5181</th>\n",
       "      <td>532.799988</td>\n",
       "    </tr>\n",
       "  </tbody>\n",
       "</table>\n",
       "<p>5168 rows × 1 columns</p>\n",
       "</div>"
      ],
      "text/plain": [
       "           Close\n",
       "0      12.497500\n",
       "1      11.547500\n",
       "2      11.200000\n",
       "3      10.807500\n",
       "4      10.742500\n",
       "...          ...\n",
       "5177  551.049988\n",
       "5178  539.200012\n",
       "5179  536.950012\n",
       "5180  533.849976\n",
       "5181  532.799988\n",
       "\n",
       "[5168 rows x 1 columns]"
      ]
     },
     "execution_count": 16,
     "metadata": {},
     "output_type": "execute_result"
    }
   ],
   "source": [
    "#create ne dataframe with only close column\n",
    "data=df1.filter(['Close'])\n",
    "data"
   ]
  },
  {
   "cell_type": "code",
   "execution_count": 15,
   "id": "2fcce26a",
   "metadata": {},
   "outputs": [
    {
     "data": {
      "text/html": [
       "<div>\n",
       "<style scoped>\n",
       "    .dataframe tbody tr th:only-of-type {\n",
       "        vertical-align: middle;\n",
       "    }\n",
       "\n",
       "    .dataframe tbody tr th {\n",
       "        vertical-align: top;\n",
       "    }\n",
       "\n",
       "    .dataframe thead th {\n",
       "        text-align: right;\n",
       "    }\n",
       "</style>\n",
       "<table border=\"1\" class=\"dataframe\">\n",
       "  <thead>\n",
       "    <tr style=\"text-align: right;\">\n",
       "      <th></th>\n",
       "      <th>Close</th>\n",
       "    </tr>\n",
       "  </thead>\n",
       "  <tbody>\n",
       "    <tr>\n",
       "      <th>0</th>\n",
       "      <td>12.497500</td>\n",
       "    </tr>\n",
       "    <tr>\n",
       "      <th>1</th>\n",
       "      <td>11.547500</td>\n",
       "    </tr>\n",
       "    <tr>\n",
       "      <th>2</th>\n",
       "      <td>11.200000</td>\n",
       "    </tr>\n",
       "    <tr>\n",
       "      <th>3</th>\n",
       "      <td>10.807500</td>\n",
       "    </tr>\n",
       "    <tr>\n",
       "      <th>4</th>\n",
       "      <td>10.742500</td>\n",
       "    </tr>\n",
       "    <tr>\n",
       "      <th>...</th>\n",
       "      <td>...</td>\n",
       "    </tr>\n",
       "    <tr>\n",
       "      <th>5177</th>\n",
       "      <td>551.049988</td>\n",
       "    </tr>\n",
       "    <tr>\n",
       "      <th>5178</th>\n",
       "      <td>539.200012</td>\n",
       "    </tr>\n",
       "    <tr>\n",
       "      <th>5179</th>\n",
       "      <td>536.950012</td>\n",
       "    </tr>\n",
       "    <tr>\n",
       "      <th>5180</th>\n",
       "      <td>533.849976</td>\n",
       "    </tr>\n",
       "    <tr>\n",
       "      <th>5181</th>\n",
       "      <td>532.799988</td>\n",
       "    </tr>\n",
       "  </tbody>\n",
       "</table>\n",
       "<p>5168 rows × 1 columns</p>\n",
       "</div>"
      ],
      "text/plain": [
       "           Close\n",
       "0      12.497500\n",
       "1      11.547500\n",
       "2      11.200000\n",
       "3      10.807500\n",
       "4      10.742500\n",
       "...          ...\n",
       "5177  551.049988\n",
       "5178  539.200012\n",
       "5179  536.950012\n",
       "5180  533.849976\n",
       "5181  532.799988\n",
       "\n",
       "[5168 rows x 1 columns]"
      ]
     },
     "execution_count": 15,
     "metadata": {},
     "output_type": "execute_result"
    }
   ],
   "source": []
  },
  {
   "cell_type": "code",
   "execution_count": 17,
   "id": "ba710499",
   "metadata": {},
   "outputs": [
    {
     "data": {
      "text/plain": [
       "array([[ 12.4975  ],\n",
       "       [ 11.5475  ],\n",
       "       [ 11.2     ],\n",
       "       ...,\n",
       "       [536.950012],\n",
       "       [533.849976],\n",
       "       [532.799988]])"
      ]
     },
     "execution_count": 17,
     "metadata": {},
     "output_type": "execute_result"
    }
   ],
   "source": [
    "#convert dataframe into numpy array\n",
    "dataset=data.values\n",
    "dataset"
   ]
  },
  {
   "cell_type": "code",
   "execution_count": 18,
   "id": "38feb2ae",
   "metadata": {},
   "outputs": [
    {
     "data": {
      "text/plain": [
       "4135"
      ]
     },
     "execution_count": 18,
     "metadata": {},
     "output_type": "execute_result"
    }
   ],
   "source": [
    "#get the number of rows to train te model\n",
    "training_data_len=math.ceil(len(dataset)*.8)\n",
    "training_data_len\n",
    "#to train e take 80 prcent \n"
   ]
  },
  {
   "cell_type": "code",
   "execution_count": 19,
   "id": "4f238afa",
   "metadata": {},
   "outputs": [
    {
     "data": {
      "text/plain": [
       "array([[0.01118026],\n",
       "       [0.00996432],\n",
       "       [0.00951954],\n",
       "       ...,\n",
       "       [0.68244727],\n",
       "       [0.67847941],\n",
       "       [0.67713549]])"
      ]
     },
     "execution_count": 19,
     "metadata": {},
     "output_type": "execute_result"
    }
   ],
   "source": [
    "#scale the data\n",
    "scaler=MinMaxScaler(feature_range=(0,1))\n",
    "scaled_data=scaler.fit_transform(dataset)\n",
    "scaled_data\n"
   ]
  },
  {
   "cell_type": "code",
   "execution_count": 20,
   "id": "442d8b5d",
   "metadata": {},
   "outputs": [
    {
     "name": "stdout",
     "output_type": "stream",
     "text": [
      "[array([0.01118026, 0.00996432, 0.00951954, 0.00901717, 0.00893397,\n",
      "       0.00901397, 0.00919956, 0.00908756, 0.00882518, 0.00882518,\n",
      "       0.00926356, 0.00890837, 0.00895317, 0.00887957, 0.00862359,\n",
      "       0.00916756, 0.00889877, 0.00898197, 0.00901717, 0.00883798,\n",
      "       0.00897557, 0.00862679, 0.00862679, 0.00881558, 0.0082556 ,\n",
      "       0.0083132 , 0.00823001, 0.0082972 , 0.00815001, 0.00804441,\n",
      "       0.00816921, 0.00738845, 0.00746844, 0.00731485, 0.00669408,\n",
      "       0.00718366, 0.00721565, 0.00706526, 0.00702046, 0.00658848,\n",
      "       0.00641249, 0.0061821 , 0.0061693 , 0.0061693 , 0.00583972,\n",
      "       0.00568933, 0.00481897, 0.00482217, 0.00454698, 0.0041502 ,\n",
      "       0.00503336, 0.00518375, 0.00468778, 0.00496296, 0.00482537,\n",
      "       0.00490536, 0.00503976, 0.00655009, 0.00568613, 0.0063165 ])]\n",
      "[0.006156504582343959]\n",
      "\n"
     ]
    }
   ],
   "source": [
    "#create te training dataset\n",
    "#create the scaled traing dataset\n",
    "train_data=scaled_data[0:training_data_len,:]\n",
    "#split the data into x_train and y_train datasets\n",
    "x_train=[]     #independant training variables or training features\n",
    "y_train=[]     #depndant variabls or target variables\n",
    "\n",
    "for i in range(60,len(train_data)):\n",
    "    x_train.append(train_data[i-60:i,0])     #pass 60 valus    position 0->59\n",
    "    y_train.append(train_data[i,0])      #contain 61 value in position 60th\n",
    "    if i<=60:\n",
    "        print(x_train)\n",
    "        print(y_train)\n",
    "        print()\n",
    "    \n"
   ]
  },
  {
   "cell_type": "code",
   "execution_count": 21,
   "id": "cc12d75d",
   "metadata": {},
   "outputs": [
    {
     "data": {
      "text/plain": [
       "(array([[0.01118026, 0.00996432, 0.00951954, ..., 0.00655009, 0.00568613,\n",
       "         0.0063165 ],\n",
       "        [0.00996432, 0.00951954, 0.00901717, ..., 0.00568613, 0.0063165 ,\n",
       "         0.0061565 ],\n",
       "        [0.00951954, 0.00901717, 0.00893397, ..., 0.0063165 , 0.0061565 ,\n",
       "         0.00614691],\n",
       "        ...,\n",
       "        [0.45826599, 0.43996289, 0.45429822, ..., 0.49365633, 0.4962162 ,\n",
       "         0.50210389],\n",
       "        [0.43996289, 0.45429822, 0.45967394, ..., 0.4962162 , 0.50210389,\n",
       "         0.49756012],\n",
       "        [0.45429822, 0.45967394, 0.45820201, ..., 0.50210389, 0.49756012,\n",
       "         0.5041518 ]]),\n",
       " array([0.0061565 , 0.00614691, 0.00604451, ..., 0.49756012, 0.5041518 ,\n",
       "        0.51739917]))"
      ]
     },
     "execution_count": 21,
     "metadata": {},
     "output_type": "execute_result"
    }
   ],
   "source": [
    "#convrt x_train and y_train to numpy array so can use them to lstm model\n",
    "x_train,y_train=np.array(x_train),np.array(y_train)\n",
    "x_train,y_train\n"
   ]
  },
  {
   "cell_type": "code",
   "execution_count": 22,
   "id": "1e1b4a45",
   "metadata": {},
   "outputs": [
    {
     "data": {
      "text/plain": [
       "(4075, 60, 1)"
      ]
     },
     "execution_count": 22,
     "metadata": {},
     "output_type": "execute_result"
    }
   ],
   "source": [
    "#reshape te data.... y?lstm model expct the input in 3d form of samples \n",
    "x_train=np.reshape(x_train,(x_train.shape[0],x_train.shape[1],1))\n",
    "x_train.shape\n"
   ]
  },
  {
   "cell_type": "code",
   "execution_count": 23,
   "id": "51e8534c",
   "metadata": {},
   "outputs": [],
   "source": [
    "#build the LSTM model\n",
    "model=Sequential()\n",
    "model.add(LSTM(50,return_sequences=True,input_shape=(x_train.shape[1],1)))\n",
    "model.add(LSTM(50,return_sequences=False))\n",
    "model.add(Dense(25))\n",
    "model.add(Dense(1))"
   ]
  },
  {
   "cell_type": "code",
   "execution_count": 24,
   "id": "92b17da5",
   "metadata": {},
   "outputs": [],
   "source": [
    "#compile th model\n",
    "model.compile(optimizer='adam',loss='mean_squared_error')"
   ]
  },
  {
   "cell_type": "code",
   "execution_count": 25,
   "id": "628f2317",
   "metadata": {},
   "outputs": [
    {
     "name": "stdout",
     "output_type": "stream",
     "text": [
      "4075/4075 [==============================] - 203s 39ms/step - loss: 5.2108e-04\n"
     ]
    },
    {
     "data": {
      "text/plain": [
       "<keras.callbacks.History at 0x253274c7b50>"
      ]
     },
     "execution_count": 25,
     "metadata": {},
     "output_type": "execute_result"
    }
   ],
   "source": [
    "#train te model\n",
    "model.fit(x_train,y_train,batch_size=1,epochs=1)"
   ]
  },
  {
   "cell_type": "code",
   "execution_count": 26,
   "id": "c09a1a6e",
   "metadata": {},
   "outputs": [],
   "source": [
    "#create testing dataset\n",
    "#create a new array containing scaled values from indx 3568 to 5182\n",
    "test_data=scaled_data[training_data_len - 60:,:]\n",
    "#create dataset x_test and y_tst\n",
    "x_test=[]\n",
    "y_test=dataset[training_data_len:,:]\n",
    "for i in range(60,len(test_data)):\n",
    "    x_test.append(test_data[i-60:i,0])"
   ]
  },
  {
   "cell_type": "code",
   "execution_count": 27,
   "id": "ff90a59d",
   "metadata": {},
   "outputs": [],
   "source": [
    "#convert data into numpy array\n",
    "x_test=np.array(x_test)"
   ]
  },
  {
   "cell_type": "code",
   "execution_count": 28,
   "id": "4b4e5f65",
   "metadata": {},
   "outputs": [],
   "source": [
    "#reshap the data\n",
    "x_test=np.reshape(x_test,(x_test.shape[0],x_test.shape[1],1))"
   ]
  },
  {
   "cell_type": "code",
   "execution_count": 29,
   "id": "39f601cc",
   "metadata": {},
   "outputs": [],
   "source": [
    "#get te model prdictd price values\n",
    "predictions=model.predict(x_test)\n",
    "predictions=scaler.inverse_transform(predictions)"
   ]
  },
  {
   "cell_type": "code",
   "execution_count": 30,
   "id": "a733eb74",
   "metadata": {},
   "outputs": [
    {
     "data": {
      "text/plain": [
       "60.92674214329046"
      ]
     },
     "execution_count": 30,
     "metadata": {},
     "output_type": "execute_result"
    }
   ],
   "source": [
    "#get te root mean squared error(RMSE).....   how accurate te model prdicts te response and sd of \n",
    "rmse = np.sqrt(((predictions - y_test) ** 2).mean())\n",
    "rmse"
   ]
  },
  {
   "cell_type": "code",
   "execution_count": 31,
   "id": "0437c804",
   "metadata": {
    "scrolled": true
   },
   "outputs": [
    {
     "name": "stderr",
     "output_type": "stream",
     "text": [
      "<ipython-input-31-d707939af344>:4: SettingWithCopyWarning: \n",
      "A value is trying to be set on a copy of a slice from a DataFrame.\n",
      "Try using .loc[row_indexer,col_indexer] = value instead\n",
      "\n",
      "See the caveats in the documentation: https://pandas.pydata.org/pandas-docs/stable/user_guide/indexing.html#returning-a-view-versus-a-copy\n",
      "  valid['predictions']=predictions\n"
     ]
    },
    {
     "data": {
      "image/png": "[encoded data removed]",
      "text/plain": [
       "<Figure size 576x720 with 1 Axes>"
      ]
     },
     "metadata": {},
     "output_type": "display_data"
    }
   ],
   "source": [
    "#plot te data\n",
    "train=data[:training_data_len]\n",
    "valid=data[training_data_len:]\n",
    "valid['predictions']=predictions\n",
    "#visualiz te data\n",
    "plt.figure(figsize=(8,10))\n",
    "plt.title('model')\n",
    "plt.xlabel('date')\n",
    "plt.ylabel('closing price')\n",
    "plt.plot(train['Close'])\n",
    "plt.plot(valid[['Close','predictions']])\n",
    "plt.legend(['train','val','predictions'],loc='lower right')\n",
    "plt.show()"
   ]
  },
  {
   "cell_type": "code",
   "execution_count": null,
   "id": "22708ef0",
   "metadata": {},
   "outputs": [],
   "source": []
  },
  {
   "cell_type": "code",
   "execution_count": null,
   "id": "bd75d024",
   "metadata": {},
   "outputs": [],
   "source": []
  },
  {
   "cell_type": "code",
   "execution_count": null,
   "id": "fa4f6ec3",
   "metadata": {},
   "outputs": [],
   "source": []
  },
  {
   "cell_type": "code",
   "execution_count": null,
   "id": "f3371615",
   "metadata": {},
   "outputs": [],
   "source": []
  },
  {
   "cell_type": "code",
   "execution_count": null,
   "id": "ff2c09c2",
   "metadata": {},
   "outputs": [],
   "source": []
  },
  {
   "cell_type": "code",
   "execution_count": null,
   "id": "4f6bb2db",
   "metadata": {},
   "outputs": [],
   "source": []
  },
  {
   "cell_type": "code",
   "execution_count": null,
   "id": "d183e8c4",
   "metadata": {},
   "outputs": [],
   "source": []
  },
  {
   "cell_type": "code",
   "execution_count": null,
   "id": "45b32850",
   "metadata": {},
   "outputs": [],
   "source": []
  },
  {
   "cell_type": "code",
   "execution_count": 5,
   "id": "266bd2e5",
   "metadata": {},
   "outputs": [],
   "source": []
  },
  {
   "cell_type": "code",
   "execution_count": 8,
   "id": "820a6836",
   "metadata": {},
   "outputs": [],
   "source": []
  },
  {
   "cell_type": "code",
   "execution_count": 11,
   "id": "e80252f1",
   "metadata": {},
   "outputs": [],
   "source": []
  },
  {
   "cell_type": "code",
   "execution_count": null,
   "id": "491f8ca2",
   "metadata": {},
   "outputs": [],
   "source": []
  },
  {
   "cell_type": "code",
   "execution_count": 16,
   "id": "b3ef17a8",
   "metadata": {},
   "outputs": [],
   "source": []
  },
  {
   "cell_type": "code",
   "execution_count": 17,
   "id": "66771cc8",
   "metadata": {},
   "outputs": [],
   "source": []
  },
  {
   "cell_type": "code",
   "execution_count": null,
   "id": "707fbfc8",
   "metadata": {},
   "outputs": [],
   "source": []
  },
  {
   "cell_type": "code",
   "execution_count": null,
   "id": "98b65bd5",
   "metadata": {},
   "outputs": [],
   "source": []
  }
 ],
 "metadata": {
  "kernelspec": {
   "display_name": "Python 3",
   "language": "python",
   "name": "python3"
  },
  "language_info": {
   "codemirror_mode": {
    "name": "ipython",
    "version": 3
   },
   "file_extension": ".py",
   "mimetype": "text/x-python",
   "name": "python",
   "nbconvert_exporter": "python",
   "pygments_lexer": "ipython3",
   "version": "3.9.4"
  }
 },
 "nbformat": 4,
 "nbformat_minor": 5
}
